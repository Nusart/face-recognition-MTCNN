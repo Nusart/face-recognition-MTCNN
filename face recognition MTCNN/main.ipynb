{
 "cells": [
  {
   "cell_type": "markdown",
   "metadata": {},
   "source": [
    "### Project by- \n",
    "Sarthak Mishra 18388 Physics dept <br>\n",
    "Sanket Shete 18386 Maths dept"
   ]
  },
  {
   "cell_type": "code",
   "execution_count": 2,
   "metadata": {},
   "outputs": [
    {
     "data": {
      "text/plain": [
       "'2.1.0'"
      ]
     },
     "execution_count": 2,
     "metadata": {},
     "output_type": "execute_result"
    }
   ],
   "source": [
    "import tensorflow as tf\n",
    "tf.__version__"
   ]
  },
  {
   "cell_type": "code",
   "execution_count": 3,
   "metadata": {},
   "outputs": [
    {
     "data": {
      "text/plain": [
       "'3.7.9'"
      ]
     },
     "execution_count": 3,
     "metadata": {},
     "output_type": "execute_result"
    }
   ],
   "source": [
    "from platform import python_version\n",
    "python_version()"
   ]
  },
  {
   "cell_type": "code",
   "execution_count": 5,
   "metadata": {},
   "outputs": [
    {
     "name": "stdout",
     "output_type": "stream",
     "text": [
      "Choose\n",
      "1.For input from Webcam\n",
      "2.For input from the Folder-Input\n",
      "Enter your value from Keyboard: 2\n",
      "2\n",
      "Model filename: 20170512-110547/20170512-110547.pb\n",
      "Total number of people in database = 4\n",
      "distance = 1.3216931\n",
      "distance = 1.0048673\n",
      "distance = 1.2712761\n",
      "distance = 0.5877656\n",
      "person found is from class  4\n",
      "The person found is  Sanket\n"
     ]
    }
   ],
   "source": [
    "%load Face_Rec.py\n",
    "\n",
    "import tensorflow.compat.v1 as tf\n",
    "import numpy as np\n",
    "import pre_trained_facenet\n",
    "import cv2\n",
    "from mtcnn.mtcnn import MTCNN\n",
    "import xlrd\n",
    "import glob\n",
    "\n",
    "print(\"Choose\")\n",
    "print(\"1.For input from Webcam\")\n",
    "print(\"2.For input from the Folder-Input\")\n",
    "val = input(\"Enter your value from Keyboard: \")\n",
    "print(val)\n",
    "if (val=='1'):\n",
    "  camera = cv2.VideoCapture(0)\n",
    "  return_value, camshot = camera.read()\n",
    "  cv2.imwrite('captured/cam.jpg', camshot)\n",
    "  img2 = cv2.imread(\"captured/cam.jpg\")\n",
    "  del(camera)\n",
    "elif (val=='2'):\n",
    "  img2 = cv2.imread(\"Input/cam.jpg\")\n",
    "else:\n",
    "  print(\"Wrong Choice\")\n",
    "  exit()  \n",
    "\n",
    "detector = MTCNN()\n",
    "\n",
    "  # some constants kept as default from facenet\n",
    "minsize = 20\n",
    "threshold = [0.6, 0.7, 0.7]\n",
    "factor = 0.709\n",
    "margin = 44\n",
    "input_image_size = 160\n",
    "loc = (\"data.xlsx\")\n",
    "wb = xlrd.open_workbook(loc)\n",
    "sheet = wb.sheet_by_index(0)\n",
    "sess = tf.Session()\n",
    "\n",
    "  # read 20170512-110547 model file downloaded from https://drive.google.com/file/d/0B5MzpY9kBtDVZ2RpVDYwWmxoSUk\n",
    "pre_trained_facenet.load_model(\"20170512-110547/20170512-110547.pb\")\n",
    "\n",
    "  # Get input and output tensors\n",
    "images_placeholder = tf.get_default_graph().get_tensor_by_name(\"input:0\")\n",
    "embeddings = tf.get_default_graph().get_tensor_by_name(\"embeddings:0\")\n",
    "phase_train_placeholder = tf.get_default_graph().get_tensor_by_name(\"phase_train:0\")\n",
    "embedding_size = embeddings.get_shape()[1]\n",
    "\n",
    "def getFace(img):\n",
    "    faces=[]\n",
    "    result = detector.detect_faces(img)\n",
    "    # Result is an array with all the bounding boxes detected.\n",
    "\n",
    "    bounding_box = result[0]['box']\n",
    "    keypoints = result[0]['keypoints']\n",
    "    cv2.rectangle(img,\n",
    "                  (bounding_box[0], bounding_box[1]),\n",
    "                  (bounding_box[0]+bounding_box[2], bounding_box[1] + bounding_box[3]),\n",
    "                  (0,155,255),\n",
    "                  2)\n",
    "    cv2.circle(img,(keypoints['left_eye']), 2, (0,155,255), 2)\n",
    "    cv2.circle(img,(keypoints['right_eye']), 2, (0,155,255), 2)\n",
    "    cv2.circle(img,(keypoints['nose']), 2, (0,155,255), 2)\n",
    "    cv2.circle(img,(keypoints['mouth_left']), 2, (0,155,255), 2)\n",
    "    cv2.circle(img,(keypoints['mouth_right']), 2, (0,155,255), 2)\n",
    "    cv2.imwrite(\"check/dd_drawn.jpg\", img)\n",
    "    cropped=img[bounding_box[1]:bounding_box[1] + bounding_box[3], bounding_box[0]:bounding_box[0]+bounding_box[2]]\n",
    "    cv2.imwrite(\"check/dd_cropped.jpg\", cropped)\n",
    "    rearranged= cv2.resize(cropped, (input_image_size,input_image_size),interpolation=cv2.INTER_CUBIC)\n",
    "    cv2.imwrite(\"check/dd_resized.jpg\",rearranged)\n",
    "    prewhitened = pre_trained_facenet.prewhiten(rearranged)\n",
    "    faces.append({'face':rearranged,'embedding':getEmbedding(prewhitened)})\n",
    "    return faces\n",
    "\n",
    "def getEmbedding(resized):\n",
    "    reshaped = resized.reshape(-1,input_image_size,input_image_size,3)\n",
    "    feed_dict = {images_placeholder: reshaped, phase_train_placeholder: False}\n",
    "    embedding = sess.run(embeddings, feed_dict=feed_dict)\n",
    "    return embedding\n",
    "\n",
    "def compare2face(img1,img2):\n",
    "    face1 = getFace(img1)\n",
    "    face2 = getFace(img2)\n",
    "    if face1 and face2:\n",
    "        # calculate Euclidean distance\n",
    "        dist = np.sqrt(np.sum(np.square(np.subtract(face1[0]['embedding'], face2[0]['embedding']))))\n",
    "        return dist\n",
    "    return -1\n",
    "print(\"Total number of people in database = \"+str(sheet.nrows-1))\n",
    "\n",
    "for j in range (1,sheet.nrows):\n",
    "    img1 = cv2.imread(\"database/Person\"+str(j)+\".jpg\")\n",
    "    distance=compare2face(img1,img2)\n",
    "    threshold = 0.9    # set yourself to meet your requirement\n",
    "    print(\"distance = \"+str(distance))\n",
    "    if(distance <= threshold):\n",
    "       print(\"Person found is from class \"+str(j))\n",
    "       print(\"The person found is \"+str(sheet.cell_value(j,1)))\n",
    "       break"
   ]
  },
  {
   "cell_type": "code",
   "execution_count": 7,
   "metadata": {},
   "outputs": [
    {
     "name": "stdout",
     "output_type": "stream",
     "text": [
      "Choose\n",
      "1.For input from Webcam\n",
      "2.For input from the Folder-Input\n",
      "Enter your value from Keyboard: 1\n",
      "1\n",
      "Model filename: 20170512-110547/20170512-110547.pb\n",
      "Total number of people in database = 4\n",
      "distance = 1.4784735\n",
      "distance = 0.5243616\n",
      "person found is from class  2\n",
      "The person found is  Sarthak\n"
     ]
    }
   ],
   "source": [
    "%run Face_Rec.py"
   ]
  },
  {
   "cell_type": "code",
   "execution_count": 4,
   "metadata": {},
   "outputs": [
    {
     "name": "stdout",
     "output_type": "stream",
     "text": [
      "Choose\n",
      "1.For input from Webcam\n",
      "2.For input from the Folder-Input\n",
      "Enter your value from Keyboard: 2\n",
      "2\n",
      "Model filename: 20170512-110547/20170512-110547.pb\n",
      "Total number of people in database = 4\n",
      "distance = 0.8678204\n",
      "person found is from class  1\n",
      "The person found is  Messi\n"
     ]
    }
   ],
   "source": [
    "%run Face_Rec.py"
   ]
  },
  {
   "cell_type": "code",
   "execution_count": null,
   "metadata": {},
   "outputs": [],
   "source": []
  }
 ],
 "metadata": {
  "kernelspec": {
   "display_name": "Python 3",
   "language": "python",
   "name": "python3"
  },
  "language_info": {
   "codemirror_mode": {
    "name": "ipython",
    "version": 3
   },
   "file_extension": ".py",
   "mimetype": "text/x-python",
   "name": "python",
   "nbconvert_exporter": "python",
   "pygments_lexer": "ipython3",
   "version": "3.7.9"
  }
 },
 "nbformat": 4,
 "nbformat_minor": 4
}
